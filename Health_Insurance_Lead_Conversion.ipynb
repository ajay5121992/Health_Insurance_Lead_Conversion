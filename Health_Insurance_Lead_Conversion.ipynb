{
 "cells": [
  {
   "cell_type": "markdown",
   "metadata": {},
   "source": [
    "### Problem Description"
   ]
  },
  {
   "cell_type": "markdown",
   "metadata": {},
   "source": [
    "###### Your Client FinMan is a financial services company that provides various financial services like loan, investment funds, insurance etc. to its customers. FinMan wishes to cross-sell health insurance to the existing customers who may or may not hold insurance policies with the company. \n",
    "\n",
    "###### The company recommend health insurance to it's customers based on their profile once these customers land on the website. Customers might browse the recommended health insurance policy and consequently fill up a form to apply. When these customers fill-up the form, their Response towards the policy is considered positive and they are classified as a lead.\n",
    "\n",
    "\n",
    "###### Once these leads are acquired, the sales advisors approach them to convert and thus the company can sell proposed health insurance to these leads in a more efficient manner.\n",
    "\n",
    "Now the company needs your help in building a model to predict whether the person will be interested in their proposed Health plan/policy given the information about:\n",
    "\n",
    "Demographics (city, age, region etc.)\n",
    "\n",
    "Information regarding holding policies of the customer\n",
    "\n",
    "Recommended Policy Information\n"
   ]
  },
  {
   "cell_type": "markdown",
   "metadata": {},
   "source": [
    "### Data Dictionary of historical data"
   ]
  },
  {
   "cell_type": "raw",
   "metadata": {},
   "source": [
    "Variable\t               Definition\n",
    "\n",
    "ID                         Unique Identifier for a row\n",
    "City_Code\t               Code for the City of the customers\n",
    "Region_Code\t               Code for the Region of the customers\n",
    "Accomodation_Type\t       Customer Owns or Rents the house\n",
    "Reco_Insurance_Type\t       Joint or Individual type for the recommended insurance  \n",
    "Upper_Age\t               Maximum age of the customer \n",
    "Lower _Age\t               Minimum age of the customer\n",
    "Is_Spouse\t               If the customers are married to each other (in case of joint insurance) \n",
    "Health_Indicator           Encoded values for health of the customer\n",
    "Holding_Policy_Duration\t   Duration(in years) of holding policy(policy that cust has already subscribed to with the cmp)\n",
    "Holding_Policy_Type        Type of holding policy\n",
    "Reco_Policy_Cat\t           Encoded value for recommended health insurance\n",
    "Reco_Policy_Premium\t       Annual Premium (INR) for the recommended health insurance\n",
    "Response (Target)\t\n",
    "0 : Customer did not show interest in the recommended policy,\n",
    "1 : Customer showed interest in the recommended policy"
   ]
  },
  {
   "cell_type": "markdown",
   "metadata": {},
   "source": [
    "###### Importing essential libraries"
   ]
  },
  {
   "cell_type": "code",
   "execution_count": 53,
   "metadata": {},
   "outputs": [],
   "source": [
    "import numpy as np\n",
    "import pandas as pd\n",
    "import matplotlib.pyplot as plt\n",
    "import seaborn as sns\n",
    "from sklearn.linear_model import LogisticRegression\n",
    "import statsmodels.api as sm\n",
    "from scipy.stats import chi2_contingency\n",
    "from IPython.display import display\n",
    "from scipy import stats\n",
    "import statsmodels.formula.api as smf\n",
    "from sklearn import preprocessing\n",
    "from sklearn.ensemble import RandomForestClassifier\n",
    "from sklearn.model_selection import train_test_split\n",
    "from imblearn.over_sampling import SMOTE\n",
    "from sklearn.metrics import roc_auc_score\n",
    "from catboost import CatBoostClassifier\n",
    "import xgboost as xgb\n",
    "import lightgbm\n",
    "from sklearn.model_selection import GridSearchCV"
   ]
  },
  {
   "cell_type": "markdown",
   "metadata": {},
   "source": [
    "###### Reading Available Data"
   ]
  },
  {
   "cell_type": "code",
   "execution_count": 186,
   "metadata": {},
   "outputs": [
    {
     "data": {
      "text/plain": [
       "(50882, 14)"
      ]
     },
     "execution_count": 186,
     "metadata": {},
     "output_type": "execute_result"
    }
   ],
   "source": [
    "df = pd.read_csv(\"train_Df64byy.csv\")\n",
    "df.shape"
   ]
  },
  {
   "cell_type": "code",
   "execution_count": 187,
   "metadata": {
    "scrolled": true
   },
   "outputs": [
    {
     "data": {
      "text/html": [
       "<div>\n",
       "<style scoped>\n",
       "    .dataframe tbody tr th:only-of-type {\n",
       "        vertical-align: middle;\n",
       "    }\n",
       "\n",
       "    .dataframe tbody tr th {\n",
       "        vertical-align: top;\n",
       "    }\n",
       "\n",
       "    .dataframe thead th {\n",
       "        text-align: right;\n",
       "    }\n",
       "</style>\n",
       "<table border=\"1\" class=\"dataframe\">\n",
       "  <thead>\n",
       "    <tr style=\"text-align: right;\">\n",
       "      <th></th>\n",
       "      <th>ID</th>\n",
       "      <th>City_Code</th>\n",
       "      <th>Region_Code</th>\n",
       "      <th>Accomodation_Type</th>\n",
       "      <th>Reco_Insurance_Type</th>\n",
       "      <th>Upper_Age</th>\n",
       "      <th>Lower_Age</th>\n",
       "      <th>Is_Spouse</th>\n",
       "      <th>Health Indicator</th>\n",
       "      <th>Holding_Policy_Duration</th>\n",
       "      <th>Holding_Policy_Type</th>\n",
       "      <th>Reco_Policy_Cat</th>\n",
       "      <th>Reco_Policy_Premium</th>\n",
       "      <th>Response</th>\n",
       "    </tr>\n",
       "  </thead>\n",
       "  <tbody>\n",
       "    <tr>\n",
       "      <th>0</th>\n",
       "      <td>1</td>\n",
       "      <td>C3</td>\n",
       "      <td>3213</td>\n",
       "      <td>Rented</td>\n",
       "      <td>Individual</td>\n",
       "      <td>36</td>\n",
       "      <td>36</td>\n",
       "      <td>No</td>\n",
       "      <td>X1</td>\n",
       "      <td>14+</td>\n",
       "      <td>3.0</td>\n",
       "      <td>22</td>\n",
       "      <td>11628.0</td>\n",
       "      <td>0</td>\n",
       "    </tr>\n",
       "    <tr>\n",
       "      <th>1</th>\n",
       "      <td>2</td>\n",
       "      <td>C5</td>\n",
       "      <td>1117</td>\n",
       "      <td>Owned</td>\n",
       "      <td>Joint</td>\n",
       "      <td>75</td>\n",
       "      <td>22</td>\n",
       "      <td>No</td>\n",
       "      <td>X2</td>\n",
       "      <td>NaN</td>\n",
       "      <td>NaN</td>\n",
       "      <td>22</td>\n",
       "      <td>30510.0</td>\n",
       "      <td>0</td>\n",
       "    </tr>\n",
       "    <tr>\n",
       "      <th>2</th>\n",
       "      <td>3</td>\n",
       "      <td>C5</td>\n",
       "      <td>3732</td>\n",
       "      <td>Owned</td>\n",
       "      <td>Individual</td>\n",
       "      <td>32</td>\n",
       "      <td>32</td>\n",
       "      <td>No</td>\n",
       "      <td>NaN</td>\n",
       "      <td>1.0</td>\n",
       "      <td>1.0</td>\n",
       "      <td>19</td>\n",
       "      <td>7450.0</td>\n",
       "      <td>1</td>\n",
       "    </tr>\n",
       "    <tr>\n",
       "      <th>3</th>\n",
       "      <td>4</td>\n",
       "      <td>C24</td>\n",
       "      <td>4378</td>\n",
       "      <td>Owned</td>\n",
       "      <td>Joint</td>\n",
       "      <td>52</td>\n",
       "      <td>48</td>\n",
       "      <td>No</td>\n",
       "      <td>X1</td>\n",
       "      <td>14+</td>\n",
       "      <td>3.0</td>\n",
       "      <td>19</td>\n",
       "      <td>17780.0</td>\n",
       "      <td>0</td>\n",
       "    </tr>\n",
       "    <tr>\n",
       "      <th>4</th>\n",
       "      <td>5</td>\n",
       "      <td>C8</td>\n",
       "      <td>2190</td>\n",
       "      <td>Rented</td>\n",
       "      <td>Individual</td>\n",
       "      <td>44</td>\n",
       "      <td>44</td>\n",
       "      <td>No</td>\n",
       "      <td>X2</td>\n",
       "      <td>3.0</td>\n",
       "      <td>1.0</td>\n",
       "      <td>16</td>\n",
       "      <td>10404.0</td>\n",
       "      <td>0</td>\n",
       "    </tr>\n",
       "  </tbody>\n",
       "</table>\n",
       "</div>"
      ],
      "text/plain": [
       "   ID City_Code  Region_Code Accomodation_Type Reco_Insurance_Type  Upper_Age  \\\n",
       "0   1        C3         3213            Rented          Individual         36   \n",
       "1   2        C5         1117             Owned               Joint         75   \n",
       "2   3        C5         3732             Owned          Individual         32   \n",
       "3   4       C24         4378             Owned               Joint         52   \n",
       "4   5        C8         2190            Rented          Individual         44   \n",
       "\n",
       "   Lower_Age Is_Spouse Health Indicator Holding_Policy_Duration  \\\n",
       "0         36        No               X1                     14+   \n",
       "1         22        No               X2                     NaN   \n",
       "2         32        No              NaN                     1.0   \n",
       "3         48        No               X1                     14+   \n",
       "4         44        No               X2                     3.0   \n",
       "\n",
       "   Holding_Policy_Type  Reco_Policy_Cat  Reco_Policy_Premium  Response  \n",
       "0                  3.0               22              11628.0         0  \n",
       "1                  NaN               22              30510.0         0  \n",
       "2                  1.0               19               7450.0         1  \n",
       "3                  3.0               19              17780.0         0  \n",
       "4                  1.0               16              10404.0         0  "
      ]
     },
     "execution_count": 187,
     "metadata": {},
     "output_type": "execute_result"
    }
   ],
   "source": [
    "# Top index Records of data\n",
    "df.head()"
   ]
  },
  {
   "cell_type": "code",
   "execution_count": 188,
   "metadata": {},
   "outputs": [],
   "source": [
    "# Droping ID Column as it will not make any of sense\n",
    "df.drop(columns=['ID'],inplace=True)"
   ]
  },
  {
   "cell_type": "markdown",
   "metadata": {},
   "source": [
    "###### Categorical  and Numerical Columns"
   ]
  },
  {
   "cell_type": "code",
   "execution_count": 166,
   "metadata": {},
   "outputs": [
    {
     "name": "stdout",
     "output_type": "stream",
     "text": [
      "Categorical Feature List- \n",
      " ['City_Code', 'Region_Code', 'Accomodation_Type', 'Reco_Insurance_TypeIs_Spouse', 'Health Indicator', 'Holding_Policy_Duration', 'Holding_Policy_Type', 'Reco_Policy_Cat'] \n",
      "\n",
      "Numerical Feature List - \n",
      " ['Upper_Age', 'Lower_Age', 'Reco_Policy_Premium']\n"
     ]
    }
   ],
   "source": [
    "print(\"Categorical Feature List - \\n\",['City_Code','Region_Code','Accomodation_Type','Reco_Insurance_TypeIs_Spouse','Health Indicator','Holding_Policy_Duration','Holding_Policy_Type','Reco_Policy_Cat'],'\\n')\n",
    "print(\"Numerical Feature List - \\n\",['Upper_Age','Lower_Age','Reco_Policy_Premium'])"
   ]
  },
  {
   "cell_type": "markdown",
   "metadata": {},
   "source": [
    "### Univariate analysis"
   ]
  },
  {
   "cell_type": "code",
   "execution_count": 159,
   "metadata": {},
   "outputs": [],
   "source": [
    "# Lets do the basic data check using visualization and basic statistical to get univariate summary of each feature individually"
   ]
  },
  {
   "cell_type": "markdown",
   "metadata": {},
   "source": [
    "###### 1. City_Code"
   ]
  },
  {
   "cell_type": "code",
   "execution_count": 7,
   "metadata": {},
   "outputs": [
    {
     "data": {
      "image/png": "[encoded data removed]",
      "text/plain": [
       "<Figure size 432x288 with 1 Axes>"
      ]
     },
     "metadata": {
      "needs_background": "light"
     },
     "output_type": "display_data"
    }
   ],
   "source": [
    "# Ploting fequency plot for column City_Code(City codes) with more then 500 distinct counts\n",
    "df.City_Code.value_counts()[df.City_Code.value_counts()>=500].plot(kind='bar');"
   ]
  },
  {
   "cell_type": "code",
   "execution_count": 8,
   "metadata": {},
   "outputs": [
    {
     "data": {
      "text/plain": [
       "0"
      ]
     },
     "execution_count": 8,
     "metadata": {},
     "output_type": "execute_result"
    }
   ],
   "source": [
    "# Missing values in City_Code column\n",
    "df['City_Code'].isna().sum()"
   ]
  },
  {
   "cell_type": "code",
   "execution_count": 9,
   "metadata": {},
   "outputs": [
    {
     "data": {
      "text/plain": [
       "36"
      ]
     },
     "execution_count": 9,
     "metadata": {},
     "output_type": "execute_result"
    }
   ],
   "source": [
    "# Checking the caridnality :- Unique city codes present in data\n",
    "df['City_Code'].nunique()"
   ]
  },
  {
   "cell_type": "code",
   "execution_count": 10,
   "metadata": {},
   "outputs": [],
   "source": [
    "# Conculsion : \n",
    "# 1. From fugure we can identify that cities with city code C1,C2,C3,C4 have more presence as compared to rest of the cities\n",
    "# 2. And no missing value in column\n",
    "# 3. Has bit high cardinality"
   ]
  },
  {
   "cell_type": "markdown",
   "metadata": {},
   "source": [
    "###### 2. Region_Code"
   ]
  },
  {
   "cell_type": "code",
   "execution_count": 11,
   "metadata": {},
   "outputs": [
    {
     "data": {
      "image/png": "[encoded data removed]",
      "text/plain": [
       "<Figure size 432x288 with 1 Axes>"
      ]
     },
     "metadata": {
      "needs_background": "light"
     },
     "output_type": "display_data"
    }
   ],
   "source": [
    "# Ploting histogram plot of Region Codes(Geo Information)\n",
    "df.Region_Code.hist(bins=100);"
   ]
  },
  {
   "cell_type": "code",
   "execution_count": 12,
   "metadata": {},
   "outputs": [
    {
     "data": {
      "text/plain": [
       "0"
      ]
     },
     "execution_count": 12,
     "metadata": {},
     "output_type": "execute_result"
    }
   ],
   "source": [
    "# Missing value in Region_Code\n",
    "df.Region_Code.isna().sum()"
   ]
  },
  {
   "cell_type": "code",
   "execution_count": 13,
   "metadata": {},
   "outputs": [
    {
     "data": {
      "text/plain": [
       "5316"
      ]
     },
     "execution_count": 13,
     "metadata": {},
     "output_type": "execute_result"
    }
   ],
   "source": [
    "# Checking the caridnality\n",
    "df['Region_Code'].nunique()"
   ]
  },
  {
   "cell_type": "code",
   "execution_count": 14,
   "metadata": {},
   "outputs": [],
   "source": [
    "# Conculsion:\n",
    "# Major of the region_code lies between range 0-1000\n",
    "# No missing value in column\n",
    "# Have quite high cardinality(looks like the column is not categorical in nature by looking at values)\n",
    "# We can drop the feature if the doesnot hold strong relation ship with Response"
   ]
  },
  {
   "cell_type": "markdown",
   "metadata": {},
   "source": [
    "###### 3. Accomodation_Type"
   ]
  },
  {
   "cell_type": "code",
   "execution_count": 15,
   "metadata": {},
   "outputs": [
    {
     "data": {
      "image/png": "[encoded data removed]",
      "text/plain": [
       "<Figure size 432x288 with 1 Axes>"
      ]
     },
     "metadata": {
      "needs_background": "light"
     },
     "output_type": "display_data"
    }
   ],
   "source": [
    "# Ploting fequency percentage plot for column Accomodation_Type\n",
    "df.Accomodation_Type.value_counts(normalize=True).plot(kind='bar');"
   ]
  },
  {
   "cell_type": "code",
   "execution_count": 16,
   "metadata": {},
   "outputs": [
    {
     "data": {
      "text/plain": [
       "0"
      ]
     },
     "execution_count": 16,
     "metadata": {},
     "output_type": "execute_result"
    }
   ],
   "source": [
    "# Missing values in Accomodation_Type column\n",
    "df['Accomodation_Type'].isna().sum()"
   ]
  },
  {
   "cell_type": "code",
   "execution_count": 17,
   "metadata": {},
   "outputs": [],
   "source": [
    "# Conculsion : \n",
    "# 1. From fugure we can identify that more people are owing an house then rented people but the difference is not that much \n",
    "# great\n",
    "# 2. And no missing value in column"
   ]
  },
  {
   "cell_type": "markdown",
   "metadata": {},
   "source": [
    "###### 4. Reco_Insurance_Type"
   ]
  },
  {
   "cell_type": "code",
   "execution_count": 18,
   "metadata": {},
   "outputs": [
    {
     "data": {
      "image/png": "[encoded data removed]",
      "text/plain": [
       "<Figure size 432x288 with 1 Axes>"
      ]
     },
     "metadata": {
      "needs_background": "light"
     },
     "output_type": "display_data"
    }
   ],
   "source": [
    "# Ploting fequency percentage plot for column Recommended Insurance Type\n",
    "df.Reco_Insurance_Type.value_counts(normalize=True).plot(kind='bar');"
   ]
  },
  {
   "cell_type": "code",
   "execution_count": 19,
   "metadata": {},
   "outputs": [
    {
     "data": {
      "text/plain": [
       "0"
      ]
     },
     "execution_count": 19,
     "metadata": {},
     "output_type": "execute_result"
    }
   ],
   "source": [
    "# Missing values in Reco_Insurance_Type column\n",
    "df['Reco_Insurance_Type'].isna().sum()"
   ]
  },
  {
   "cell_type": "code",
   "execution_count": 20,
   "metadata": {},
   "outputs": [],
   "source": [
    "# Conculsion : \n",
    "# 1. From figure we can identify that recommended policies are generally individual in nature(company is recommending the \n",
    "# policy to customer to take policy for only one person)\n",
    "# 2. And no missing value in column"
   ]
  },
  {
   "cell_type": "markdown",
   "metadata": {},
   "source": [
    "###### 6. Upper_Age"
   ]
  },
  {
   "cell_type": "code",
   "execution_count": 21,
   "metadata": {},
   "outputs": [
    {
     "data": {
      "text/plain": [
       "count    50882.000000\n",
       "mean        44.856275\n",
       "std         17.310271\n",
       "min         18.000000\n",
       "25%         28.000000\n",
       "50%         44.000000\n",
       "75%         59.000000\n",
       "max         75.000000\n",
       "Name: Upper_Age, dtype: float64"
      ]
     },
     "execution_count": 21,
     "metadata": {},
     "output_type": "execute_result"
    }
   ],
   "source": [
    "df['Upper_Age'].describe()"
   ]
  },
  {
   "cell_type": "code",
   "execution_count": 22,
   "metadata": {},
   "outputs": [
    {
     "data": {
      "image/png": "[encoded data removed]",
      "text/plain": [
       "<Figure size 432x288 with 1 Axes>"
      ]
     },
     "metadata": {
      "needs_background": "light"
     },
     "output_type": "display_data"
    }
   ],
   "source": [
    "df['Upper_Age'].hist(bins=25);"
   ]
  },
  {
   "cell_type": "code",
   "execution_count": 23,
   "metadata": {},
   "outputs": [
    {
     "data": {
      "text/plain": [
       "0"
      ]
     },
     "execution_count": 23,
     "metadata": {},
     "output_type": "execute_result"
    }
   ],
   "source": [
    "df['Upper_Age'].isna().sum()"
   ]
  },
  {
   "cell_type": "code",
   "execution_count": 24,
   "metadata": {},
   "outputs": [],
   "source": [
    "# Conclusion:\n",
    "# No outlier in data\n",
    "# All Age bins have good amount of data where some of the age bins have greater number of customers\n",
    "# Mean - 44, std - 17, min - 18 and max - 75\n",
    "# No missing value"
   ]
  },
  {
   "cell_type": "markdown",
   "metadata": {},
   "source": [
    "###### 7. Lower_Age\t "
   ]
  },
  {
   "cell_type": "code",
   "execution_count": 25,
   "metadata": {},
   "outputs": [
    {
     "data": {
      "text/plain": [
       "count    50882.000000\n",
       "mean        42.738866\n",
       "std         17.319375\n",
       "min         16.000000\n",
       "25%         27.000000\n",
       "50%         40.000000\n",
       "75%         57.000000\n",
       "max         75.000000\n",
       "Name: Lower_Age, dtype: float64"
      ]
     },
     "execution_count": 25,
     "metadata": {},
     "output_type": "execute_result"
    }
   ],
   "source": [
    "df['Lower_Age'].describe()"
   ]
  },
  {
   "cell_type": "code",
   "execution_count": 26,
   "metadata": {},
   "outputs": [
    {
     "data": {
      "image/png": "[encoded data removed]",
      "text/plain": [
       "<Figure size 432x288 with 1 Axes>"
      ]
     },
     "metadata": {
      "needs_background": "light"
     },
     "output_type": "display_data"
    }
   ],
   "source": [
    "df['Lower_Age'].hist(bins=25);"
   ]
  },
  {
   "cell_type": "code",
   "execution_count": 27,
   "metadata": {},
   "outputs": [
    {
     "data": {
      "text/plain": [
       "0"
      ]
     },
     "execution_count": 27,
     "metadata": {},
     "output_type": "execute_result"
    }
   ],
   "source": [
    "df['Lower_Age'].isna().sum()"
   ]
  },
  {
   "cell_type": "code",
   "execution_count": 28,
   "metadata": {},
   "outputs": [],
   "source": [
    "# Conclusion:\n",
    "# No outlier in data\n",
    "# All Age bins have good amount of data where as early age bins have greater number of customers\n",
    "# Mean - 42, std - 17, min - 16 and max - 75\n",
    "# No missing value\n",
    "# Resembles with Upper Age Column"
   ]
  },
  {
   "cell_type": "markdown",
   "metadata": {},
   "source": [
    "###### 8. Is_Spouse"
   ]
  },
  {
   "cell_type": "code",
   "execution_count": 29,
   "metadata": {},
   "outputs": [
    {
     "data": {
      "image/png": "[encoded data removed]",
      "text/plain": [
       "<Figure size 432x288 with 1 Axes>"
      ]
     },
     "metadata": {
      "needs_background": "light"
     },
     "output_type": "display_data"
    }
   ],
   "source": [
    "# Ploting fequency percentage plot for column Is spouse present or not\n",
    "df.Is_Spouse.value_counts(normalize=True).plot(kind='bar');"
   ]
  },
  {
   "cell_type": "code",
   "execution_count": 30,
   "metadata": {},
   "outputs": [
    {
     "data": {
      "text/plain": [
       "0"
      ]
     },
     "execution_count": 30,
     "metadata": {},
     "output_type": "execute_result"
    }
   ],
   "source": [
    "# Missing values in Is_Spouse column\n",
    "df['Is_Spouse'].isna().sum()"
   ]
  },
  {
   "cell_type": "code",
   "execution_count": 31,
   "metadata": {},
   "outputs": [],
   "source": [
    "# Conculsion : \n",
    "# 1. From figure we can identify that generally individual who apply/query for policy are unmarried\n",
    "# 2. And no missing value in column"
   ]
  },
  {
   "cell_type": "markdown",
   "metadata": {},
   "source": [
    "###### 9. Health Indicator"
   ]
  },
  {
   "cell_type": "code",
   "execution_count": 32,
   "metadata": {},
   "outputs": [
    {
     "data": {
      "image/png": "[encoded data removed]",
      "text/plain": [
       "<Figure size 432x288 with 1 Axes>"
      ]
     },
     "metadata": {
      "needs_background": "light"
     },
     "output_type": "display_data"
    }
   ],
   "source": [
    "# Ploting fequency percentage plot for column Health Indicator\n",
    "df['Health Indicator'].value_counts(normalize=True).plot(kind='bar');"
   ]
  },
  {
   "cell_type": "code",
   "execution_count": 33,
   "metadata": {},
   "outputs": [
    {
     "data": {
      "text/plain": [
       "22.98"
      ]
     },
     "execution_count": 33,
     "metadata": {},
     "output_type": "execute_result"
    }
   ],
   "source": [
    "# Missing values in Is_Spouse column in percentage\n",
    "round(df['Health Indicator'].isna().sum()*100/df.shape[0],2)"
   ]
  },
  {
   "cell_type": "code",
   "execution_count": 34,
   "metadata": {},
   "outputs": [],
   "source": [
    "# Conculsion : \n",
    "# 1. From figure we can identify that majorly X1,X2,X3,X4 indicators values are present for majority of customer\n",
    "# 2. 23% missing value in column\n",
    "# 3. Need to do Missing value impuation"
   ]
  },
  {
   "cell_type": "markdown",
   "metadata": {},
   "source": [
    "###### 10. Holding_Policy_Duration"
   ]
  },
  {
   "cell_type": "code",
   "execution_count": 35,
   "metadata": {},
   "outputs": [
    {
     "data": {
      "image/png": "[encoded data removed]",
      "text/plain": [
       "<Figure size 432x288 with 1 Axes>"
      ]
     },
     "metadata": {
      "needs_background": "light"
     },
     "output_type": "display_data"
    }
   ],
   "source": [
    "# Ploting fequency percentage plot for column Holding Policy Duration \n",
    "# (Duration(in years) of holding policy(policy that cust has already subscribed to with the cmp))\n",
    "df['Holding_Policy_Duration'].value_counts(normalize=True).plot(kind='bar');"
   ]
  },
  {
   "cell_type": "code",
   "execution_count": 36,
   "metadata": {},
   "outputs": [
    {
     "data": {
      "text/plain": [
       "39.8"
      ]
     },
     "execution_count": 36,
     "metadata": {},
     "output_type": "execute_result"
    }
   ],
   "source": [
    "# Missing values in Holding Policy Duration column in percentage\n",
    "round(df['Holding_Policy_Duration'].isna().sum()*100/df.shape[0],2)"
   ]
  },
  {
   "cell_type": "code",
   "execution_count": 37,
   "metadata": {},
   "outputs": [],
   "source": [
    "# Conculsion : \n",
    "# 1. From figure We can identify that majorly duration of the polices already having by customers are less than 5 years\n",
    "# 2. 40% missing value in column\n",
    "# 3. Needs to categorized missing as customer not having policy(Assumption taken that places where data not present means \n",
    "# customer doesnt have any ongoing policy)\n",
    "# 4. Converting this column to numerical by change the 14+ value to 15"
   ]
  },
  {
   "cell_type": "markdown",
   "metadata": {},
   "source": [
    "###### 11. Holding_Policy_Type"
   ]
  },
  {
   "cell_type": "code",
   "execution_count": 38,
   "metadata": {},
   "outputs": [
    {
     "data": {
      "image/png": "[encoded data removed]",
      "text/plain": [
       "<Figure size 432x288 with 1 Axes>"
      ]
     },
     "metadata": {
      "needs_background": "light"
     },
     "output_type": "display_data"
    }
   ],
   "source": [
    "# Ploting fequency percentage plot for column Type of holding policy by customer \n",
    "df['Holding_Policy_Type'].value_counts(normalize=True).plot(kind='bar');"
   ]
  },
  {
   "cell_type": "code",
   "execution_count": 39,
   "metadata": {},
   "outputs": [
    {
     "data": {
      "text/plain": [
       "39.8"
      ]
     },
     "execution_count": 39,
     "metadata": {},
     "output_type": "execute_result"
    }
   ],
   "source": [
    "# Missing values in Holding_Policy_Type column in percentage\n",
    "round(df['Holding_Policy_Type'].isna().sum()*100/df.shape[0],2)"
   ]
  },
  {
   "cell_type": "code",
   "execution_count": 40,
   "metadata": {},
   "outputs": [],
   "source": [
    "# Conculsion : \n",
    "# 1. From figure we can identify that policy type 3 and 1 is generally being adopted by customers\n",
    "# 2. 40% missing value in column\n",
    "# 3. Needs to categorized missing as customer not having policy(Assumption taken that places where data not present means \n",
    "# customer doesnt have any ongoing policy)"
   ]
  },
  {
   "cell_type": "markdown",
   "metadata": {},
   "source": [
    "###### 12. Reco_Policy_Cat"
   ]
  },
  {
   "cell_type": "code",
   "execution_count": 41,
   "metadata": {},
   "outputs": [
    {
     "data": {
      "image/png": "[encoded data removed]",
      "text/plain": [
       "<Figure size 432x288 with 1 Axes>"
      ]
     },
     "metadata": {
      "needs_background": "light"
     },
     "output_type": "display_data"
    }
   ],
   "source": [
    "# Ploting fequency plot for column : Encoded value for recommended health insurance \n",
    "df['Reco_Policy_Cat'].value_counts().plot(kind='bar');"
   ]
  },
  {
   "cell_type": "code",
   "execution_count": 42,
   "metadata": {},
   "outputs": [
    {
     "data": {
      "text/plain": [
       "0.0"
      ]
     },
     "execution_count": 42,
     "metadata": {},
     "output_type": "execute_result"
    }
   ],
   "source": [
    "# Missing values in Holding_Policy_Type column in percentage\n",
    "round(df['Reco_Policy_Cat'].isna().sum()*100/df.shape[0],2)"
   ]
  },
  {
   "cell_type": "code",
   "execution_count": 43,
   "metadata": {},
   "outputs": [],
   "source": [
    "# Conculsion : \n",
    "# 1. From figure we can identify that category 22,18,21,16,17,19,20 policies are generally being offered\n",
    "# 2. No missing categories\n",
    "# 3. We can cross validate which were the policies which was offered and actually customer purchased them"
   ]
  },
  {
   "cell_type": "markdown",
   "metadata": {},
   "source": [
    "###### 13. Reco_Policy_Premium"
   ]
  },
  {
   "cell_type": "code",
   "execution_count": 44,
   "metadata": {},
   "outputs": [
    {
     "data": {
      "text/plain": [
       "count    50882.000000\n",
       "mean     14183.950069\n",
       "std       6590.074873\n",
       "min       2280.000000\n",
       "25%       9248.000000\n",
       "50%      13178.000000\n",
       "75%      18096.000000\n",
       "max      43350.400000\n",
       "Name: Reco_Policy_Premium, dtype: float64"
      ]
     },
     "execution_count": 44,
     "metadata": {},
     "output_type": "execute_result"
    }
   ],
   "source": [
    "# Statistical summary of Recommened policy premium\n",
    "df['Reco_Policy_Premium'].describe()"
   ]
  },
  {
   "cell_type": "code",
   "execution_count": 45,
   "metadata": {},
   "outputs": [
    {
     "data": {
      "image/png": "[encoded data removed]",
      "text/plain": [
       "<Figure size 432x288 with 1 Axes>"
      ]
     },
     "metadata": {
      "needs_background": "light"
     },
     "output_type": "display_data"
    }
   ],
   "source": [
    "df['Reco_Policy_Premium'].hist(bins=50);"
   ]
  },
  {
   "cell_type": "code",
   "execution_count": 46,
   "metadata": {},
   "outputs": [
    {
     "data": {
      "text/plain": [
       "0"
      ]
     },
     "execution_count": 46,
     "metadata": {},
     "output_type": "execute_result"
    }
   ],
   "source": [
    "df['Reco_Policy_Premium'].isna().sum()"
   ]
  },
  {
   "cell_type": "code",
   "execution_count": 47,
   "metadata": {},
   "outputs": [],
   "source": [
    "# Conclusion:\n",
    "# No outlier in data but the distribution looked skewed so needs to take care about that\n",
    "# Mean - 14183.95, std - 6590.07, min - 2280 and max - 43350\n",
    "# No missing value"
   ]
  },
  {
   "cell_type": "markdown",
   "metadata": {},
   "source": [
    "###### 14. Response"
   ]
  },
  {
   "cell_type": "code",
   "execution_count": 193,
   "metadata": {
    "scrolled": true
   },
   "outputs": [
    {
     "data": {
      "text/plain": [
       "0    38673\n",
       "1    12209\n",
       "Name: Response, dtype: int64"
      ]
     },
     "execution_count": 193,
     "metadata": {},
     "output_type": "execute_result"
    }
   ],
   "source": [
    "# fequency percentage for Target variable :- Response (Which customer has purchased and which not, when approached) \n",
    "df['Response'].value_counts()"
   ]
  },
  {
   "cell_type": "code",
   "execution_count": 49,
   "metadata": {},
   "outputs": [
    {
     "data": {
      "text/plain": [
       "0.0"
      ]
     },
     "execution_count": 49,
     "metadata": {},
     "output_type": "execute_result"
    }
   ],
   "source": [
    "# Missing values in Response column in percentage\n",
    "round(df['Response'].isna().sum()*100/df.shape[0],2)"
   ]
  },
  {
   "cell_type": "code",
   "execution_count": 50,
   "metadata": {},
   "outputs": [],
   "source": [
    "# Conculsion : \n",
    "# 1. From figure we can identify that 76% have not purchased the policy while 23% have purchased and its clear our dependent\n",
    "# variable is unbalanced\n",
    "# 2. 0% missing value in column\n",
    "# 3. Needs to work on balance them when modelling with using SMOTE and cost sensitive models"
   ]
  },
  {
   "cell_type": "markdown",
   "metadata": {},
   "source": [
    "### Bivariate Analysis"
   ]
  },
  {
   "cell_type": "code",
   "execution_count": 167,
   "metadata": {},
   "outputs": [],
   "source": [
    "# Lets do some analysis of target variables and see how it is behaving with respect to characteristics of independent variables"
   ]
  },
  {
   "cell_type": "markdown",
   "metadata": {},
   "source": [
    "###### 1. Which city has highest lead generation"
   ]
  },
  {
   "cell_type": "code",
   "execution_count": 20,
   "metadata": {},
   "outputs": [
    {
     "data": {
      "text/html": [
       "<div>\n",
       "<style scoped>\n",
       "    .dataframe tbody tr th:only-of-type {\n",
       "        vertical-align: middle;\n",
       "    }\n",
       "\n",
       "    .dataframe tbody tr th {\n",
       "        vertical-align: top;\n",
       "    }\n",
       "\n",
       "    .dataframe thead th {\n",
       "        text-align: right;\n",
       "    }\n",
       "</style>\n",
       "<table border=\"1\" class=\"dataframe\">\n",
       "  <thead>\n",
       "    <tr style=\"text-align: right;\">\n",
       "      <th>Response</th>\n",
       "      <th>0</th>\n",
       "      <th>1</th>\n",
       "    </tr>\n",
       "    <tr>\n",
       "      <th>City_Code</th>\n",
       "      <th></th>\n",
       "      <th></th>\n",
       "    </tr>\n",
       "  </thead>\n",
       "  <tbody>\n",
       "    <tr>\n",
       "      <th>C30</th>\n",
       "      <td>0.689655</td>\n",
       "      <td>0.310345</td>\n",
       "    </tr>\n",
       "    <tr>\n",
       "      <th>C32</th>\n",
       "      <td>0.712500</td>\n",
       "      <td>0.287500</td>\n",
       "    </tr>\n",
       "    <tr>\n",
       "      <th>C35</th>\n",
       "      <td>0.714286</td>\n",
       "      <td>0.285714</td>\n",
       "    </tr>\n",
       "    <tr>\n",
       "      <th>C34</th>\n",
       "      <td>0.723077</td>\n",
       "      <td>0.276923</td>\n",
       "    </tr>\n",
       "    <tr>\n",
       "      <th>C23</th>\n",
       "      <td>0.734242</td>\n",
       "      <td>0.265758</td>\n",
       "    </tr>\n",
       "  </tbody>\n",
       "</table>\n",
       "</div>"
      ],
      "text/plain": [
       "Response          0         1\n",
       "City_Code                    \n",
       "C30        0.689655  0.310345\n",
       "C32        0.712500  0.287500\n",
       "C35        0.714286  0.285714\n",
       "C34        0.723077  0.276923\n",
       "C23        0.734242  0.265758"
      ]
     },
     "execution_count": 20,
     "metadata": {},
     "output_type": "execute_result"
    }
   ],
   "source": [
    "df_crosstab=pd.crosstab(df.City_Code,df.Response)\n",
    "df_crosstab.div(df_crosstab.sum(axis=1), axis=0).sort_values([1],ascending=False).head(5)"
   ]
  },
  {
   "cell_type": "code",
   "execution_count": 22,
   "metadata": {},
   "outputs": [],
   "source": [
    "# Looks the cities C1,C2,C3,C4 which appeared more doesnot have that much power of lead generation as with cities \n",
    "# C30,C32,C35,C34,C23"
   ]
  },
  {
   "cell_type": "markdown",
   "metadata": {},
   "source": [
    "###### 2. Does people having house have greater chance of lead generation?"
   ]
  },
  {
   "cell_type": "code",
   "execution_count": 21,
   "metadata": {},
   "outputs": [
    {
     "data": {
      "text/html": [
       "<div>\n",
       "<style scoped>\n",
       "    .dataframe tbody tr th:only-of-type {\n",
       "        vertical-align: middle;\n",
       "    }\n",
       "\n",
       "    .dataframe tbody tr th {\n",
       "        vertical-align: top;\n",
       "    }\n",
       "\n",
       "    .dataframe thead th {\n",
       "        text-align: right;\n",
       "    }\n",
       "</style>\n",
       "<table border=\"1\" class=\"dataframe\">\n",
       "  <thead>\n",
       "    <tr style=\"text-align: right;\">\n",
       "      <th>Response</th>\n",
       "      <th>0</th>\n",
       "      <th>1</th>\n",
       "    </tr>\n",
       "    <tr>\n",
       "      <th>Accomodation_Type</th>\n",
       "      <th></th>\n",
       "      <th></th>\n",
       "    </tr>\n",
       "  </thead>\n",
       "  <tbody>\n",
       "    <tr>\n",
       "      <th>Owned</th>\n",
       "      <td>0.758041</td>\n",
       "      <td>0.241959</td>\n",
       "    </tr>\n",
       "    <tr>\n",
       "      <th>Rented</th>\n",
       "      <td>0.762505</td>\n",
       "      <td>0.237495</td>\n",
       "    </tr>\n",
       "  </tbody>\n",
       "</table>\n",
       "</div>"
      ],
      "text/plain": [
       "Response                  0         1\n",
       "Accomodation_Type                    \n",
       "Owned              0.758041  0.241959\n",
       "Rented             0.762505  0.237495"
      ]
     },
     "execution_count": 21,
     "metadata": {},
     "output_type": "execute_result"
    }
   ],
   "source": [
    "df_crosstab=pd.crosstab(df.Accomodation_Type,df.Response)\n",
    "df_crosstab.div(df_crosstab.sum(axis=1), axis=0).sort_values([1],ascending=False).head(5)"
   ]
  },
  {
   "cell_type": "code",
   "execution_count": 168,
   "metadata": {},
   "outputs": [],
   "source": [
    "# From data it seems, It hardly matters for lead generation to have a house or not"
   ]
  },
  {
   "cell_type": "markdown",
   "metadata": {},
   "source": [
    "###### 3. Does bachelor have lesser chance of lead generation "
   ]
  },
  {
   "cell_type": "code",
   "execution_count": 24,
   "metadata": {},
   "outputs": [
    {
     "data": {
      "text/html": [
       "<div>\n",
       "<style scoped>\n",
       "    .dataframe tbody tr th:only-of-type {\n",
       "        vertical-align: middle;\n",
       "    }\n",
       "\n",
       "    .dataframe tbody tr th {\n",
       "        vertical-align: top;\n",
       "    }\n",
       "\n",
       "    .dataframe thead th {\n",
       "        text-align: right;\n",
       "    }\n",
       "</style>\n",
       "<table border=\"1\" class=\"dataframe\">\n",
       "  <thead>\n",
       "    <tr style=\"text-align: right;\">\n",
       "      <th>Response</th>\n",
       "      <th>0</th>\n",
       "      <th>1</th>\n",
       "    </tr>\n",
       "    <tr>\n",
       "      <th>Is_Spouse</th>\n",
       "      <th></th>\n",
       "      <th></th>\n",
       "    </tr>\n",
       "  </thead>\n",
       "  <tbody>\n",
       "    <tr>\n",
       "      <th>Yes</th>\n",
       "      <td>0.756352</td>\n",
       "      <td>0.243648</td>\n",
       "    </tr>\n",
       "    <tr>\n",
       "      <th>No</th>\n",
       "      <td>0.760787</td>\n",
       "      <td>0.239213</td>\n",
       "    </tr>\n",
       "  </tbody>\n",
       "</table>\n",
       "</div>"
      ],
      "text/plain": [
       "Response          0         1\n",
       "Is_Spouse                    \n",
       "Yes        0.756352  0.243648\n",
       "No         0.760787  0.239213"
      ]
     },
     "execution_count": 24,
     "metadata": {},
     "output_type": "execute_result"
    }
   ],
   "source": [
    "df_crosstab=pd.crosstab(df.Is_Spouse,df.Response)\n",
    "df_crosstab.div(df_crosstab.sum(axis=1), axis=0).sort_values([1],ascending=False).head(5)"
   ]
  },
  {
   "cell_type": "code",
   "execution_count": 26,
   "metadata": {},
   "outputs": [
    {
     "data": {
      "text/html": [
       "<div>\n",
       "<style scoped>\n",
       "    .dataframe tbody tr th:only-of-type {\n",
       "        vertical-align: middle;\n",
       "    }\n",
       "\n",
       "    .dataframe tbody tr th {\n",
       "        vertical-align: top;\n",
       "    }\n",
       "\n",
       "    .dataframe thead th {\n",
       "        text-align: right;\n",
       "    }\n",
       "</style>\n",
       "<table border=\"1\" class=\"dataframe\">\n",
       "  <thead>\n",
       "    <tr style=\"text-align: right;\">\n",
       "      <th>Response</th>\n",
       "      <th>0</th>\n",
       "      <th>1</th>\n",
       "    </tr>\n",
       "    <tr>\n",
       "      <th>Is_Spouse</th>\n",
       "      <th></th>\n",
       "      <th></th>\n",
       "    </tr>\n",
       "  </thead>\n",
       "  <tbody>\n",
       "    <tr>\n",
       "      <th>No</th>\n",
       "      <td>32303</td>\n",
       "      <td>10157</td>\n",
       "    </tr>\n",
       "    <tr>\n",
       "      <th>Yes</th>\n",
       "      <td>6370</td>\n",
       "      <td>2052</td>\n",
       "    </tr>\n",
       "  </tbody>\n",
       "</table>\n",
       "</div>"
      ],
      "text/plain": [
       "Response       0      1\n",
       "Is_Spouse              \n",
       "No         32303  10157\n",
       "Yes         6370   2052"
      ]
     },
     "execution_count": 26,
     "metadata": {},
     "output_type": "execute_result"
    }
   ],
   "source": [
    "pd.crosstab(df.Is_Spouse,df.Response)"
   ]
  },
  {
   "cell_type": "code",
   "execution_count": 27,
   "metadata": {},
   "outputs": [],
   "source": [
    "# The event percentage for both of the things are same, but it has been seen from the data that normally bachelor's are\n",
    "# target more.\n",
    "# might be this feature will not add value if added in model"
   ]
  },
  {
   "cell_type": "markdown",
   "metadata": {},
   "source": [
    "###### 4. Customers that doesn't hold policy have greater lead generation chances"
   ]
  },
  {
   "cell_type": "code",
   "execution_count": 31,
   "metadata": {},
   "outputs": [
    {
     "name": "stdout",
     "output_type": "stream",
     "text": [
      "Total number of records 50882\n",
      "Number of records with having no eariler policies 20251\n",
      "Number of records with having existing policies 30631\n"
     ]
    }
   ],
   "source": [
    "print('Total number of records',df.shape[0])\n",
    "print('Number of records with having no eariler policies', df.Holding_Policy_Type.isna().sum())\n",
    "print('Number of records with having existing policies', df.shape[0]-df.Holding_Policy_Type.isna().sum())"
   ]
  },
  {
   "cell_type": "code",
   "execution_count": 34,
   "metadata": {},
   "outputs": [
    {
     "data": {
      "text/plain": [
       "NaN    20251\n",
       "3.0    13279\n",
       "1.0     8173\n",
       "2.0     5005\n",
       "4.0     4174\n",
       "Name: Holding_Policy_Type, dtype: int64"
      ]
     },
     "execution_count": 34,
     "metadata": {},
     "output_type": "execute_result"
    }
   ],
   "source": [
    "df.Holding_Policy_Type.value_counts(dropna=False)"
   ]
  },
  {
   "cell_type": "code",
   "execution_count": 43,
   "metadata": {},
   "outputs": [
    {
     "data": {
      "text/plain": [
       "0    0.759394\n",
       "1    0.240606\n",
       "Name: Response, dtype: float64"
      ]
     },
     "execution_count": 43,
     "metadata": {},
     "output_type": "execute_result"
    }
   ],
   "source": [
    "df[df.Holding_Policy_Type.notnull()]['Response'].value_counts(normalize=True)"
   ]
  },
  {
   "cell_type": "code",
   "execution_count": 44,
   "metadata": {},
   "outputs": [
    {
     "data": {
      "text/plain": [
       "0    0.761049\n",
       "1    0.238951\n",
       "Name: Response, dtype: float64"
      ]
     },
     "execution_count": 44,
     "metadata": {},
     "output_type": "execute_result"
    }
   ],
   "source": [
    "df[df.Holding_Policy_Type.isnull()]['Response'].value_counts(normalize=True)"
   ]
  },
  {
   "cell_type": "code",
   "execution_count": 45,
   "metadata": {},
   "outputs": [],
   "source": [
    "# From data it looks like the event percentage is same for both of the cases when customer is already holding some policy\n",
    "# or not"
   ]
  },
  {
   "cell_type": "markdown",
   "metadata": {},
   "source": [
    "#### Correaltions"
   ]
  },
  {
   "cell_type": "markdown",
   "metadata": {},
   "source": [
    "###### Finding  correlation among continous variables "
   ]
  },
  {
   "cell_type": "code",
   "execution_count": 51,
   "metadata": {},
   "outputs": [
    {
     "data": {
      "image/png": "[encoded data removed]",
      "text/plain": [
       "<Figure size 432x288 with 2 Axes>"
      ]
     },
     "metadata": {
      "needs_background": "light"
     },
     "output_type": "display_data"
    }
   ],
   "source": [
    "corr = df[['Upper_Age','Lower_Age','Reco_Policy_Premium']].corr(method = 'spearman')\n",
    "sns.heatmap(corr, annot = True)\n",
    "plt.show()"
   ]
  },
  {
   "cell_type": "code",
   "execution_count": 169,
   "metadata": {},
   "outputs": [],
   "source": [
    "# Consulsion\n",
    "# We can see that upper age and lower age is quite correlated and even premium in health policies are basically dependent on\n",
    "# Upper age so we can drop the lower age "
   ]
  },
  {
   "cell_type": "code",
   "execution_count": 170,
   "metadata": {},
   "outputs": [],
   "source": [
    "# Lets see the correlation of UpperAge with Response variable using 2 sample t-test; whether the upper age is significantly \n",
    "# different for different group of response"
   ]
  },
  {
   "cell_type": "code",
   "execution_count": 183,
   "metadata": {},
   "outputs": [
    {
     "data": {
      "text/plain": [
       "MannwhitneyuResult(statistic=234680180.5, pvalue=0.16130378028724446)"
      ]
     },
     "execution_count": 183,
     "metadata": {},
     "output_type": "execute_result"
    }
   ],
   "source": [
    "stats.mannwhitneyu(df[df['Response']==1]['Upper_Age'], df[df['Response']==0]['Upper_Age'])"
   ]
  },
  {
   "cell_type": "code",
   "execution_count": 173,
   "metadata": {},
   "outputs": [
    {
     "name": "stdout",
     "output_type": "stream",
     "text": [
      "44.9416823654681\n",
      "44.82931244020376\n"
     ]
    }
   ],
   "source": [
    "print(df[df['Response']==1]['Upper_Age'].mean())\n",
    "print(df[df['Response']==0]['Upper_Age'].mean())"
   ]
  },
  {
   "cell_type": "code",
   "execution_count": 185,
   "metadata": {},
   "outputs": [],
   "source": [
    "# P-value is 0.1 that means the means of the two differnt groups are significantly same for siginificance level 0.05 but \n",
    "# for sinificance level 0.1 we can reject the null hypothesis and say the distribution are significanltly different"
   ]
  },
  {
   "cell_type": "code",
   "execution_count": null,
   "metadata": {},
   "outputs": [],
   "source": []
  },
  {
   "cell_type": "code",
   "execution_count": 178,
   "metadata": {},
   "outputs": [],
   "source": [
    "# Lets also check the correlation of independent variables(Categorical) and dependent variable(categorical i.e., Response)"
   ]
  },
  {
   "cell_type": "code",
   "execution_count": 62,
   "metadata": {},
   "outputs": [],
   "source": [
    "cat_cols=['City_Code','Accomodation_Type','Reco_Insurance_Type','Health Indicator','Holding_Policy_Type','Reco_Policy_Cat','Is_Spouse']"
   ]
  },
  {
   "cell_type": "code",
   "execution_count": 63,
   "metadata": {},
   "outputs": [
    {
     "name": "stdout",
     "output_type": "stream",
     "text": [
      "City_Code and Response vars Chi-Sqaure test's P value= 0.7251180856306821\n",
      "Accomodation_Type and Response vars Chi-Sqaure test's P value= 0.24491793264478945\n",
      "Reco_Insurance_Type and Response vars Chi-Sqaure test's P value= 0.026534842934215437\n",
      "Health Indicator and Response vars Chi-Sqaure test's P value= 0.43865402848058554\n",
      "Holding_Policy_Type and Response vars Chi-Sqaure test's P value= 0.42634578504540277\n",
      "Reco_Policy_Cat and Response vars Chi-Sqaure test's P value= 0.0\n",
      "Is_Spouse and Response vars Chi-Sqaure test's P value= 0.3917208801956691\n"
     ]
    }
   ],
   "source": [
    "for f in cat_cols:\n",
    "    chitest = chi2_contingency(pd.crosstab(df[f], df['Response']))   \n",
    "    print(f,\"and Response vars Chi-Sqaure test's P value=\",chitest[1])"
   ]
  },
  {
   "cell_type": "code",
   "execution_count": 64,
   "metadata": {},
   "outputs": [],
   "source": [
    "# Means Only Reco_Policy_Cat and Reco_Insurance_Type holds strong relation/dependency with Response variable.\n",
    "# So we can drop of categorical features from our modelling excerise\n",
    "# City_Code','Accomodation_Type', 'Health Indicator','Holding_Policy_Type', 'Is_Spouse'"
   ]
  },
  {
   "cell_type": "code",
   "execution_count": 65,
   "metadata": {},
   "outputs": [],
   "source": [
    "# Lets check the Relationship between Categorical and Continous values"
   ]
  },
  {
   "cell_type": "code",
   "execution_count": 66,
   "metadata": {},
   "outputs": [],
   "source": [
    "# Lets check the one for categorical features with only 2 category and continuous variables using Point Biserial Correlation"
   ]
  },
  {
   "cell_type": "code",
   "execution_count": 68,
   "metadata": {},
   "outputs": [
    {
     "name": "stderr",
     "output_type": "stream",
     "text": [
      "C:\\Users\\ajay.sharma\\Anaconda3\\lib\\site-packages\\pandas\\core\\series.py:4569: SettingWithCopyWarning: \n",
      "A value is trying to be set on a copy of a slice from a DataFrame\n",
      "\n",
      "See the caveats in the documentation: https://pandas.pydata.org/pandas-docs/stable/user_guide/indexing.html#returning-a-view-versus-a-copy\n",
      "  method=method,\n"
     ]
    },
    {
     "data": {
      "image/png": "[encoded data removed]",
      "text/plain": [
       "<Figure size 432x288 with 2 Axes>"
      ]
     },
     "metadata": {
      "needs_background": "light"
     },
     "output_type": "display_data"
    }
   ],
   "source": [
    "bi_cat_vars = ['Is_Spouse','Reco_Insurance_Type','Accomodation_Type']\n",
    "cont_vars = ['Upper_Age','Reco_Policy_Premium']\n",
    "df_temp=df[bi_cat_vars+cont_vars]\n",
    "\n",
    "# Convert the value of column into int\n",
    "for cat in bi_cat_vars:\n",
    "    df_temp[cat].replace({df_temp[cat].value_counts().index[0]: 1, df_temp[cat].value_counts().index[1]: 0},inplace=True)\n",
    "\n",
    "sns.heatmap(df_temp.corr(), annot = True)\n",
    "plt.show()"
   ]
  },
  {
   "cell_type": "code",
   "execution_count": 74,
   "metadata": {},
   "outputs": [],
   "source": [
    "# From Here we can see that Is_Spouse is correlated with Recommended Insurance Type\n",
    "# So we can drop the Is_Spouse varible in modelling"
   ]
  },
  {
   "cell_type": "code",
   "execution_count": 75,
   "metadata": {},
   "outputs": [],
   "source": [
    "# Finally columns to drop 'Lower_Age','Region_Code', 'Is_Spouse', 'City_Code'"
   ]
  },
  {
   "cell_type": "code",
   "execution_count": null,
   "metadata": {},
   "outputs": [],
   "source": []
  },
  {
   "cell_type": "markdown",
   "metadata": {},
   "source": [
    "##### Missing value imputation"
   ]
  },
  {
   "cell_type": "code",
   "execution_count": 153,
   "metadata": {},
   "outputs": [
    {
     "data": {
      "text/plain": [
       "Health Indicator           11691\n",
       "Holding_Policy_Duration    20251\n",
       "Holding_Policy_Type        20251\n",
       "dtype: int64"
      ]
     },
     "execution_count": 153,
     "metadata": {},
     "output_type": "execute_result"
    }
   ],
   "source": [
    "# Columns having missing values and total number of rows with missing values \n",
    "pd.Series(df.isna().sum()[df.isna().sum()>0])"
   ]
  },
  {
   "cell_type": "code",
   "execution_count": 189,
   "metadata": {},
   "outputs": [],
   "source": [
    "# Will handle missing value for only Health_Indicator because Holding_Policy_Duration and Holding_Policy_Type is missed for \n",
    "# the customers which dont hold any policy with company"
   ]
  },
  {
   "cell_type": "code",
   "execution_count": 190,
   "metadata": {},
   "outputs": [],
   "source": [
    "# Handling missing values in Holding_Policy_Duration and Holding_Policy_Type\n",
    "# Converting the Holding_Policy_Duration and Holding_Policy_Type into category and handling the missing value by placing 'Missing'\n",
    "# Category\n",
    "df['Holding_Policy_Duration'] = pd.Categorical(df.Holding_Policy_Duration)\n",
    "df['Holding_Policy_Type'] = pd.Categorical(df.Holding_Policy_Type)\n",
    "df['Holding_Policy_Duration'] = np.where(df['Holding_Policy_Duration'].isnull(),'Missing',df['Holding_Policy_Duration'])\n",
    "df['Holding_Policy_Type'] = np.where(df['Holding_Policy_Type'].isnull(),'Missing',df['Holding_Policy_Type'])"
   ]
  },
  {
   "cell_type": "code",
   "execution_count": 191,
   "metadata": {},
   "outputs": [],
   "source": [
    "# Handing missing values in Health Indicator\n",
    "# Will use modelling approach i.e., Tree Based model which will try to predict the missing instances with learning from\n",
    "# instances where data is present"
   ]
  },
  {
   "cell_type": "code",
   "execution_count": 192,
   "metadata": {},
   "outputs": [],
   "source": [
    "# So before that we need to encode all the features which are string in nature to numerical format as \n",
    "# models understand only english/string"
   ]
  },
  {
   "cell_type": "code",
   "execution_count": 198,
   "metadata": {},
   "outputs": [],
   "source": [
    "# Encoding\n",
    "\n",
    "# One hot encoding for some categorical columns\n",
    "cat = ['Accomodation_Type','Reco_Insurance_Type','Holding_Policy_Type','Reco_Policy_Cat']\n",
    "df_ = pd.get_dummies(df.drop(['Lower_Age','Region_Code', 'Is_Spouse', 'City_Code'],axis=1), columns = cat)\n",
    "\n",
    "# Label encoding\n",
    "# Holding_Policy_Duration\n",
    "le=preprocessing.LabelEncoder()\n",
    "df_['Holding_Policy_Duration']=le.fit_transform(df_['Holding_Policy_Duration'])"
   ]
  },
  {
   "cell_type": "code",
   "execution_count": 199,
   "metadata": {},
   "outputs": [
    {
     "data": {
      "text/plain": [
       "RandomForestClassifier()"
      ]
     },
     "execution_count": 199,
     "metadata": {},
     "output_type": "execute_result"
    }
   ],
   "source": [
    "clf = RandomForestClassifier()\n",
    "clf.fit(df_.dropna().drop(['Health Indicator'],axis=1), df_.dropna()['Health Indicator'])"
   ]
  },
  {
   "cell_type": "code",
   "execution_count": 200,
   "metadata": {},
   "outputs": [],
   "source": [
    "# Now will use the same model to predit the Health indicator where orignally it holds the missing values"
   ]
  },
  {
   "cell_type": "code",
   "execution_count": 201,
   "metadata": {},
   "outputs": [],
   "source": [
    "df_['Health Indicator'] = np.where(df_['Health Indicator'].isnull(),\n",
    "                                   clf.predict(df_.drop(['Health Indicator'],axis=1)),\n",
    "                                   df_['Health Indicator'])"
   ]
  },
  {
   "cell_type": "code",
   "execution_count": 202,
   "metadata": {},
   "outputs": [],
   "source": [
    "# One hot encoding the remaining/newly Health_Indicator column with no missing value\n",
    "df_=pd.get_dummies(df_, columns = ['Health Indicator'])"
   ]
  },
  {
   "cell_type": "code",
   "execution_count": null,
   "metadata": {},
   "outputs": [],
   "source": []
  },
  {
   "cell_type": "markdown",
   "metadata": {},
   "source": [
    "###### Upsampling Response Variable"
   ]
  },
  {
   "cell_type": "code",
   "execution_count": 203,
   "metadata": {},
   "outputs": [],
   "source": [
    "# Upsampling the miniorty classes as the given data is not balanced"
   ]
  },
  {
   "cell_type": "code",
   "execution_count": 204,
   "metadata": {},
   "outputs": [],
   "source": [
    "sm = SMOTE(random_state=42,sampling_strategy={0:38673,1:18000})\n",
    "X_res, y_res = sm.fit_resample(df_.drop(['Response'],axis=1),df_['Response'])"
   ]
  },
  {
   "cell_type": "markdown",
   "metadata": {},
   "source": [
    "### Modelling"
   ]
  },
  {
   "cell_type": "markdown",
   "metadata": {},
   "source": [
    "###### Train Test Split"
   ]
  },
  {
   "cell_type": "code",
   "execution_count": 205,
   "metadata": {},
   "outputs": [],
   "source": [
    "X_train, X_test, y_train, y_test = train_test_split(X_res, y_res, test_size=0.15, stratify=y_res, random_state=10)"
   ]
  },
  {
   "cell_type": "markdown",
   "metadata": {},
   "source": [
    "###### Benchmark models classification models (XGBoost, RandomForest, LightGBM)"
   ]
  },
  {
   "cell_type": "markdown",
   "metadata": {},
   "source": [
    "###### Checking the ROC_AUC score for the same"
   ]
  },
  {
   "cell_type": "code",
   "execution_count": 206,
   "metadata": {},
   "outputs": [
    {
     "name": "stdout",
     "output_type": "stream",
     "text": [
      "Train 0.6795376242490182\n",
      "Test 0.6733060391886456\n"
     ]
    }
   ],
   "source": [
    "# XGBoost\n",
    "\n",
    "xg_clf = xgb.XGBClassifier(n_estimators=250,\n",
    "                           max_depth=4,\n",
    "                           objective='binary:logistic',\n",
    "                           random_state=10)\n",
    "xg_clf.fit(X_train,y_train)\n",
    "preds_train = xg_clf.predict(X_train)\n",
    "preds = xg_clf.predict(X_test)\n",
    "print(\"Train\",roc_auc_score(y_train, preds_train))\n",
    "print(\"Test\",roc_auc_score(y_test, preds))"
   ]
  },
  {
   "cell_type": "code",
   "execution_count": 207,
   "metadata": {},
   "outputs": [
    {
     "name": "stdout",
     "output_type": "stream",
     "text": [
      "Train 0.9993182429132926\n",
      "Test 0.7041757168304315\n"
     ]
    }
   ],
   "source": [
    "# RandomForestClassifier\n",
    "\n",
    "rf_clf = RandomForestClassifier(random_state=10)\n",
    "rf_clf.fit(X_train,y_train)\n",
    "preds_train = rf_clf.predict(X_train)\n",
    "preds = rf_clf.predict(X_test)\n",
    "print(\"Train\",roc_auc_score(y_train, preds_train))\n",
    "print(\"Test\",roc_auc_score(y_test, preds))"
   ]
  },
  {
   "cell_type": "code",
   "execution_count": 208,
   "metadata": {},
   "outputs": [
    {
     "name": "stdout",
     "output_type": "stream",
     "text": [
      "Train 0.662923536251525\n",
      "Test 0.6704028041142331\n"
     ]
    }
   ],
   "source": [
    "# LightGBM\n",
    "\n",
    "train_data = lightgbm.Dataset(X_train, label=y_train)\n",
    "test_data = lightgbm.Dataset(X_test, label=y_test)\n",
    "lightgbm_clf = lightgbm.LGBMClassifier(random_state=10)\n",
    "lightgbm_clf.fit(X_train,y_train)\n",
    "preds_train = lightgbm_clf.predict(X_train)\n",
    "preds = lightgbm_clf.predict(X_test)\n",
    "print(\"Train\",roc_auc_score(y_train, preds_train))\n",
    "print(\"Test\",roc_auc_score(y_test, preds))"
   ]
  },
  {
   "cell_type": "code",
   "execution_count": 144,
   "metadata": {},
   "outputs": [],
   "source": [
    "# Applying Grid SearchCV on XGBoost"
   ]
  },
  {
   "cell_type": "code",
   "execution_count": 145,
   "metadata": {},
   "outputs": [],
   "source": [
    "estimator = xgb.XGBClassifier(\n",
    "    objective= 'binary:logistic',\n",
    "    nthread=4,\n",
    "    seed=10\n",
    ")"
   ]
  },
  {
   "cell_type": "code",
   "execution_count": 146,
   "metadata": {},
   "outputs": [],
   "source": [
    "parameters = {\n",
    "    'max_depth': range (4, 10, 2),\n",
    "    'n_estimators': range(100, 250, 50),\n",
    "    'learning_rate': [0.1, 0.01, 0.05],\n",
    "    'min_child_weight': [1, 5, 10],\n",
    "    'gamma': [i/10.0 for i in range(2)],\n",
    "    'subsample': [0.7, 0.8, 1.0],\n",
    "    'colsample_bytree': [0.7, 0.8, 1.0]\n",
    "}"
   ]
  },
  {
   "cell_type": "code",
   "execution_count": 147,
   "metadata": {},
   "outputs": [],
   "source": [
    "grid_search = GridSearchCV(\n",
    "    estimator=estimator,\n",
    "    param_grid=parameters,\n",
    "    scoring = 'roc_auc',\n",
    "    n_jobs = -1,\n",
    "    cv = 3,\n",
    "    verbose=True\n",
    ")"
   ]
  },
  {
   "cell_type": "code",
   "execution_count": 148,
   "metadata": {},
   "outputs": [],
   "source": [
    "# Choosing the XGBoost as the best model"
   ]
  },
  {
   "cell_type": "code",
   "execution_count": 151,
   "metadata": {},
   "outputs": [],
   "source": [
    "grid_search.fit(X_res, y_res)"
   ]
  },
  {
   "cell_type": "code",
   "execution_count": 306,
   "metadata": {},
   "outputs": [
    {
     "data": {
      "text/plain": [
       "{'colsample_bytree': 0.8,\n",
       " 'gamma': 0.2,\n",
       " 'learning_rate': 0.1,\n",
       " 'max_depth': 8,\n",
       " 'min_child_weight': 1,\n",
       " 'n_estimators': 200,\n",
       " 'subsample': 0.7}"
      ]
     },
     "execution_count": 306,
     "metadata": {},
     "output_type": "execute_result"
    }
   ],
   "source": [
    "grid_search.best_params_"
   ]
  },
  {
   "cell_type": "code",
   "execution_count": 216,
   "metadata": {},
   "outputs": [
    {
     "name": "stdout",
     "output_type": "stream",
     "text": [
      "Train 0.7091840364766008\n",
      "Test 0.674519559207544\n"
     ]
    }
   ],
   "source": [
    "# XGBoost hypertunned\n",
    "\n",
    "xg_clf = xgb.XGBClassifier(n_estimators=450,\n",
    "                           max_depth=8,\n",
    "                           colsample_bytree=1,\n",
    "                           learning_rate=0.05,\n",
    "                           min_child_weight=1,\n",
    "                           subsample= 0.9,\n",
    "                           objective='binary:logistic',\n",
    "                           random_state=10)\n",
    "xg_clf.fit(X_train,y_train)\n",
    "preds_train = xg_clf.predict(X_train)\n",
    "preds = xg_clf.predict(X_test)\n",
    "print(\"Train\",roc_auc_score(y_train, preds_train))\n",
    "print(\"Test\",roc_auc_score(y_test, preds))"
   ]
  },
  {
   "cell_type": "code",
   "execution_count": 305,
   "metadata": {},
   "outputs": [],
   "source": [
    "# After parameter we came up with final model"
   ]
  }
 ],
 "metadata": {
  "kernelspec": {
   "display_name": "Python 3",
   "language": "python",
   "name": "python3"
  },
  "language_info": {
   "codemirror_mode": {
    "name": "ipython",
    "version": 3
   },
   "file_extension": ".py",
   "mimetype": "text/x-python",
   "name": "python",
   "nbconvert_exporter": "python",
   "pygments_lexer": "ipython3",
   "version": "3.7.6"
  }
 },
 "nbformat": 4,
 "nbformat_minor": 4
}
